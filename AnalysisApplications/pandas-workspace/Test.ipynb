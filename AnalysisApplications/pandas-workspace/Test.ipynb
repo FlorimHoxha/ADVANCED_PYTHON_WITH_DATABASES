{
 "cells": [],
 "metadata": {
  "kernelspec": {
   "display_name": "Python 3.9.13 ('pandas-workspace': venv)",
   "language": "python",
   "name": "python3"
  },
  "language_info": {
   "codemirror_mode": {
    "name": "ipython",
    "version": 3
   },
   "file_extension": ".py",
   "mimetype": "text/x-python",
   "name": "python",
   "nbconvert_exporter": "python",
   "pygments_lexer": "ipython3",
   "version": "3.9.13"
  },
  "vscode": {
   "interpreter": {
    "hash": "19b4c65c6de1b715179a20516eb61b33a8ceeb4d56075a82a9ca9da93ad9e94b"
   }
  }
 },
 "nbformat": 4,
 "nbformat_minor": 5
}
